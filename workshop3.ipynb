{
 "cells": [
  {
   "cell_type": "markdown",
   "metadata": {},
   "source": [
    "### Notebook for Workshop 3\n",
    "\n",
    "This notebook is in html. To be able to run it, please click: [![Open In Colab](https://colab.research.google.com/assets/colab-badge.svg)](https://colab.research.google.com/github/gunerilhan/KES_python/blob/master/workshop3.ipynb)"
   ]
  },
  {
   "cell_type": "code",
   "execution_count": 2,
   "metadata": {},
   "outputs": [],
   "source": [
    "import numpy as np # for numerical programming\n",
    "import pandas as pd # for data analysis\n",
    "import matplotlib.pyplot as plt # for plotting\n",
    "from matplotlib import style # to customize plotting sytles once for all\n",
    "style.use('https://gunerilhan.github.io/img/fivethirtyeight-modified.mplstyle')\n",
    "# to be able to see plots in jupyter notebooks\n",
    "%matplotlib inline \n",
    "import seaborn as sns # for fancier graphs\n"
   ]
  },
  {
   "cell_type": "markdown",
   "metadata": {},
   "source": [
    "### Built in functions "
   ]
  },
  {
   "cell_type": "code",
   "execution_count": 3,
   "metadata": {},
   "outputs": [
    {
     "name": "stdout",
     "output_type": "stream",
     "text": [
      "Hello\n"
     ]
    }
   ],
   "source": [
    "print('Hello')"
   ]
  },
  {
   "cell_type": "code",
   "execution_count": 4,
   "metadata": {},
   "outputs": [
    {
     "data": {
      "text/plain": [
       "9"
      ]
     },
     "execution_count": 4,
     "metadata": {},
     "output_type": "execute_result"
    }
   ],
   "source": [
    "max(3,4,5,9)"
   ]
  },
  {
   "cell_type": "code",
   "execution_count": 5,
   "metadata": {},
   "outputs": [
    {
     "data": {
      "text/plain": [
       "-2"
      ]
     },
     "execution_count": 5,
     "metadata": {},
     "output_type": "execute_result"
    }
   ],
   "source": [
    "min(0,-2,78)"
   ]
  },
  {
   "cell_type": "code",
   "execution_count": 7,
   "metadata": {},
   "outputs": [
    {
     "data": {
      "text/plain": [
       "False"
      ]
     },
     "execution_count": 7,
     "metadata": {},
     "output_type": "execute_result"
    }
   ],
   "source": [
    "all([True,False, True])"
   ]
  },
  {
   "cell_type": "code",
   "execution_count": 8,
   "metadata": {},
   "outputs": [
    {
     "data": {
      "text/plain": [
       "True"
      ]
     },
     "execution_count": 8,
     "metadata": {},
     "output_type": "execute_result"
    }
   ],
   "source": [
    "all([True,True,True])"
   ]
  },
  {
   "cell_type": "code",
   "execution_count": 9,
   "metadata": {},
   "outputs": [
    {
     "data": {
      "text/plain": [
       "True"
      ]
     },
     "execution_count": 9,
     "metadata": {},
     "output_type": "execute_result"
    }
   ],
   "source": [
    "any([True,False,False])"
   ]
  },
  {
   "cell_type": "code",
   "execution_count": 10,
   "metadata": {},
   "outputs": [
    {
     "data": {
      "text/plain": [
       "str"
      ]
     },
     "execution_count": 10,
     "metadata": {},
     "output_type": "execute_result"
    }
   ],
   "source": [
    "type('des')"
   ]
  },
  {
   "cell_type": "markdown",
   "metadata": {},
   "source": [
    "### Third party functions \n",
    "\n"
   ]
  },
  {
   "cell_type": "code",
   "execution_count": 11,
   "metadata": {},
   "outputs": [
    {
     "data": {
      "text/plain": [
       "3.5"
      ]
     },
     "execution_count": 11,
     "metadata": {},
     "output_type": "execute_result"
    }
   ],
   "source": [
    "np.mean([2,3,4,5])"
   ]
  },
  {
   "cell_type": "code",
   "execution_count": 12,
   "metadata": {},
   "outputs": [
    {
     "data": {
      "text/plain": [
       "array([0.69314718, 1.09861229, 1.38629436, 1.60943791])"
      ]
     },
     "execution_count": 12,
     "metadata": {},
     "output_type": "execute_result"
    }
   ],
   "source": [
    "np.log([2,3,4,5])"
   ]
  },
  {
   "cell_type": "code",
   "execution_count": 15,
   "metadata": {},
   "outputs": [
    {
     "data": {
      "text/plain": [
       "1.306920453445764"
      ]
     },
     "execution_count": 15,
     "metadata": {},
     "output_type": "execute_result"
    }
   ],
   "source": [
    "np.random.uniform(2)"
   ]
  },
  {
   "cell_type": "code",
   "execution_count": 18,
   "metadata": {},
   "outputs": [
    {
     "data": {
      "text/plain": [
       "array([-0.75437353,  1.60480042,  1.84271448,  1.70638426,  0.86666253,\n",
       "       -0.35545734,  1.13897308,  0.87964198,  1.2032611 ,  0.75474322,\n",
       "       -0.79908593,  1.2707784 ,  0.0726744 ,  0.92924485, -0.69764968,\n",
       "       -0.02535454,  1.42469897,  0.47594709,  0.69069523, -1.79678172,\n",
       "       -0.89466651,  0.60947228,  2.55825631, -0.33626125, -1.11112111,\n",
       "        1.44386581, -0.02499876, -0.08205505, -2.26507534, -0.24321896,\n",
       "       -0.27360503,  0.96134058, -1.21022483,  0.81780807, -0.07194773,\n",
       "        0.82208794, -1.4836011 , -0.49507008, -1.029309  , -0.36189433,\n",
       "       -0.1806616 ,  1.86271138, -2.25982522,  0.60910219,  1.42256511,\n",
       "        1.16901907, -1.9330998 ,  1.45070827, -0.76641569, -1.28857963,\n",
       "        0.0550203 , -0.30337666,  2.32724124, -0.61408167, -0.58467394,\n",
       "        0.47164929,  0.01816335, -0.02438783, -0.60072385,  0.26257961,\n",
       "        1.19144876,  1.33737737,  0.49322992, -0.37681382,  0.93684978,\n",
       "        0.90713321,  1.39926218, -0.18628444, -1.42142694, -0.95840873,\n",
       "       -0.07311366, -1.44753843,  2.29558879, -0.0705347 ,  2.1472727 ,\n",
       "       -0.27727438,  1.14307788,  0.92181609,  0.33834419,  0.13250082,\n",
       "        0.90426096,  1.35547383, -1.86728295,  1.68578863, -0.84104077,\n",
       "        0.53891897, -0.41937684, -0.96268801,  0.63061277,  0.43857772,\n",
       "        0.36884293,  1.50030583,  0.0602988 , -0.83152591, -0.2142715 ,\n",
       "       -0.99986412,  0.44107958, -0.69278551, -0.12713489,  0.81100151])"
      ]
     },
     "execution_count": 18,
     "metadata": {},
     "output_type": "execute_result"
    }
   ],
   "source": [
    "np.random.randn(100)"
   ]
  },
  {
   "cell_type": "code",
   "execution_count": 28,
   "metadata": {
    "scrolled": true
   },
   "outputs": [
    {
     "data": {
      "text/plain": [
       "(array([1.000e+00, 1.000e+00, 0.000e+00, 1.000e+00, 5.000e+00, 6.000e+00,\n",
       "        8.000e+00, 1.200e+01, 1.600e+01, 2.100e+01, 1.900e+01, 1.600e+01,\n",
       "        2.600e+01, 3.700e+01, 6.000e+01, 8.000e+01, 8.500e+01, 1.100e+02,\n",
       "        1.570e+02, 2.050e+02, 2.120e+02, 2.880e+02, 3.160e+02, 4.170e+02,\n",
       "        4.690e+02, 6.150e+02, 6.860e+02, 8.500e+02, 9.310e+02, 1.096e+03,\n",
       "        1.243e+03, 1.374e+03, 1.506e+03, 1.714e+03, 1.902e+03, 2.107e+03,\n",
       "        2.219e+03, 2.430e+03, 2.667e+03, 2.814e+03, 3.024e+03, 3.058e+03,\n",
       "        3.311e+03, 3.366e+03, 3.538e+03, 3.503e+03, 3.636e+03, 3.607e+03,\n",
       "        3.499e+03, 3.377e+03, 3.353e+03, 3.261e+03, 3.153e+03, 2.896e+03,\n",
       "        2.906e+03, 2.583e+03, 2.513e+03, 2.307e+03, 2.063e+03, 1.915e+03,\n",
       "        1.751e+03, 1.538e+03, 1.354e+03, 1.235e+03, 1.059e+03, 8.560e+02,\n",
       "        8.250e+02, 6.830e+02, 5.580e+02, 4.730e+02, 4.220e+02, 3.180e+02,\n",
       "        2.830e+02, 2.290e+02, 1.860e+02, 1.450e+02, 1.270e+02, 8.600e+01,\n",
       "        5.900e+01, 6.100e+01, 3.300e+01, 2.600e+01, 2.200e+01, 1.800e+01,\n",
       "        1.500e+01, 1.000e+01, 1.100e+01, 7.000e+00, 9.000e+00, 5.000e+00,\n",
       "        1.000e+00, 2.000e+00, 0.000e+00, 0.000e+00, 1.000e+00, 0.000e+00,\n",
       "        0.000e+00, 0.000e+00, 0.000e+00, 1.000e+00]),\n",
       " array([-4.15712746e+00, -4.06866410e+00, -3.98020074e+00, -3.89173738e+00,\n",
       "        -3.80327402e+00, -3.71481066e+00, -3.62634730e+00, -3.53788394e+00,\n",
       "        -3.44942058e+00, -3.36095722e+00, -3.27249386e+00, -3.18403050e+00,\n",
       "        -3.09556714e+00, -3.00710378e+00, -2.91864042e+00, -2.83017706e+00,\n",
       "        -2.74171369e+00, -2.65325033e+00, -2.56478697e+00, -2.47632361e+00,\n",
       "        -2.38786025e+00, -2.29939689e+00, -2.21093353e+00, -2.12247017e+00,\n",
       "        -2.03400681e+00, -1.94554345e+00, -1.85708009e+00, -1.76861673e+00,\n",
       "        -1.68015337e+00, -1.59169001e+00, -1.50322665e+00, -1.41476329e+00,\n",
       "        -1.32629993e+00, -1.23783656e+00, -1.14937320e+00, -1.06090984e+00,\n",
       "        -9.72446483e-01, -8.83983122e-01, -7.95519762e-01, -7.07056401e-01,\n",
       "        -6.18593040e-01, -5.30129680e-01, -4.41666319e-01, -3.53202959e-01,\n",
       "        -2.64739598e-01, -1.76276238e-01, -8.78128769e-02,  6.50483684e-04,\n",
       "         8.91138443e-02,  1.77577205e-01,  2.66040565e-01,  3.54503926e-01,\n",
       "         4.42967287e-01,  5.31430647e-01,  6.19894008e-01,  7.08357368e-01,\n",
       "         7.96820729e-01,  8.85284090e-01,  9.73747450e-01,  1.06221081e+00,\n",
       "         1.15067417e+00,  1.23913753e+00,  1.32760089e+00,  1.41606425e+00,\n",
       "         1.50452761e+00,  1.59299097e+00,  1.68145433e+00,  1.76991770e+00,\n",
       "         1.85838106e+00,  1.94684442e+00,  2.03530778e+00,  2.12377114e+00,\n",
       "         2.21223450e+00,  2.30069786e+00,  2.38916122e+00,  2.47762458e+00,\n",
       "         2.56608794e+00,  2.65455130e+00,  2.74301466e+00,  2.83147802e+00,\n",
       "         2.91994138e+00,  3.00840474e+00,  3.09686810e+00,  3.18533147e+00,\n",
       "         3.27379483e+00,  3.36225819e+00,  3.45072155e+00,  3.53918491e+00,\n",
       "         3.62764827e+00,  3.71611163e+00,  3.80457499e+00,  3.89303835e+00,\n",
       "         3.98150171e+00,  4.06996507e+00,  4.15842843e+00,  4.24689179e+00,\n",
       "         4.33535515e+00,  4.42381851e+00,  4.51228187e+00,  4.60074523e+00,\n",
       "         4.68920860e+00]),\n",
       " <BarContainer object of 100 artists>)"
      ]
     },
     "execution_count": 28,
     "metadata": {},
     "output_type": "execute_result"
    },
    {
     "data": {
      "image/png": "[encoded data removed]",
      "text/plain": [
       "<Figure size 432x288 with 1 Axes>"
      ]
     },
     "metadata": {
      "needs_background": "light"
     },
     "output_type": "display_data"
    }
   ],
   "source": [
    "plt.hist(np.random.randn(100000),bins=100)"
   ]
  },
  {
   "cell_type": "markdown",
   "metadata": {},
   "source": [
    "### User defined functions"
   ]
  },
  {
   "cell_type": "markdown",
   "metadata": {},
   "source": [
    "Suppose the variable x evolves over time as in the following formula:\n",
    "    $$ x(t+1) = m x(t)^\\alpha + nx(t), $$\n",
    "    \n",
    "where $m=0.2$, $\\alpha=0.5$, and $n=0.9$, meaning the value of $x$ at time $t+1$ is equal to 0.2 times the value of $x$ at time $t$ to the power 0.5 plus 0.9 times the value of $x$ at time $t$. Suppose $x(0)=1$, the value of $x$ at time $t=0$ is equal to 1.\n",
    "\n",
    "Simulate $x$ for 100 periods starting from time $t=0$.\n",
    "    "
   ]
  },
  {
   "cell_type": "code",
   "execution_count": 29,
   "metadata": {},
   "outputs": [],
   "source": [
    "T,m,𝛼,n = 100,0.2,0.5,0.9"
   ]
  },
  {
   "cell_type": "code",
   "execution_count": 35,
   "metadata": {},
   "outputs": [],
   "source": [
    "x_seq = np.zeros(T)\n",
    "x_seq[0] = 1"
   ]
  },
  {
   "cell_type": "code",
   "execution_count": 46,
   "metadata": {},
   "outputs": [],
   "source": [
    "def f(x):\n",
    "    x_next = m*x**𝛼+n*x\n",
    "    return x_next"
   ]
  },
  {
   "cell_type": "code",
   "execution_count": 43,
   "metadata": {},
   "outputs": [],
   "source": [
    "for t in range(T-1):\n",
    "    x_seq[t+1] = f(x_seq[t])"
   ]
  },
  {
   "cell_type": "code",
   "execution_count": 44,
   "metadata": {},
   "outputs": [
    {
     "data": {
      "text/plain": [
       "[<matplotlib.lines.Line2D at 0x7fdb1407a810>]"
      ]
     },
     "execution_count": 44,
     "metadata": {},
     "output_type": "execute_result"
    },
    {
     "data": {
      "image/png": "[encoded data removed]",
      "text/plain": [
       "<Figure size 432x288 with 1 Axes>"
      ]
     },
     "metadata": {
      "needs_background": "light"
     },
     "output_type": "display_data"
    }
   ],
   "source": [
    "plt.plot(x_seq)"
   ]
  },
  {
   "cell_type": "code",
   "execution_count": null,
   "metadata": {},
   "outputs": [],
   "source": []
  },
  {
   "cell_type": "markdown",
   "metadata": {},
   "source": [
    "### Defaults"
   ]
  },
  {
   "cell_type": "code",
   "execution_count": 47,
   "metadata": {},
   "outputs": [],
   "source": [
    "def g(x,m=0.2,n=0.9):\n",
    "    x_next = m*x**𝛼+n*x\n",
    "    return x_next"
   ]
  },
  {
   "cell_type": "code",
   "execution_count": 48,
   "metadata": {},
   "outputs": [
    {
     "data": {
      "text/plain": [
       "2.082842712474619"
      ]
     },
     "execution_count": 48,
     "metadata": {},
     "output_type": "execute_result"
    }
   ],
   "source": [
    "g(2)"
   ]
  },
  {
   "cell_type": "code",
   "execution_count": 49,
   "metadata": {},
   "outputs": [
    {
     "data": {
      "text/plain": [
       "1.2828427124746191"
      ]
     },
     "execution_count": 49,
     "metadata": {},
     "output_type": "execute_result"
    }
   ],
   "source": [
    "g(2,n=0.5)"
   ]
  },
  {
   "cell_type": "code",
   "execution_count": 50,
   "metadata": {},
   "outputs": [
    {
     "data": {
      "text/plain": [
       "2.5071067811865477"
      ]
     },
     "execution_count": 50,
     "metadata": {},
     "output_type": "execute_result"
    }
   ],
   "source": [
    "g(2,m=0.5)"
   ]
  },
  {
   "cell_type": "code",
   "execution_count": 51,
   "metadata": {},
   "outputs": [
    {
     "data": {
      "text/plain": [
       "1.7071067811865475"
      ]
     },
     "execution_count": 51,
     "metadata": {},
     "output_type": "execute_result"
    }
   ],
   "source": [
    "g(2,m=0.5,n=0.5)"
   ]
  },
  {
   "cell_type": "code",
   "execution_count": 52,
   "metadata": {},
   "outputs": [],
   "source": [
    "y_seq = np.zeros(T)\n",
    "y_seq[0] = 1\n",
    "for t in range(T-1):\n",
    "    y_seq[t+1] = g(y_seq[t],n=0.5)"
   ]
  },
  {
   "cell_type": "code",
   "execution_count": 54,
   "metadata": {},
   "outputs": [
    {
     "data": {
      "text/plain": [
       "array([ 0,  1,  2,  3,  4,  5,  6,  7,  8,  9, 10, 11, 12, 13, 14, 15, 16,\n",
       "       17, 18, 19, 20, 21, 22, 23, 24, 25, 26, 27, 28, 29, 30, 31, 32, 33,\n",
       "       34, 35, 36, 37, 38, 39, 40, 41, 42, 43, 44, 45, 46, 47, 48, 49, 50,\n",
       "       51, 52, 53, 54, 55, 56, 57, 58, 59, 60, 61, 62, 63, 64, 65, 66, 67,\n",
       "       68, 69, 70, 71, 72, 73, 74, 75, 76, 77, 78, 79, 80, 81, 82, 83, 84,\n",
       "       85, 86, 87, 88, 89, 90, 91, 92, 93, 94, 95, 96, 97, 98, 99])"
      ]
     },
     "execution_count": 54,
     "metadata": {},
     "output_type": "execute_result"
    }
   ],
   "source": [
    "np.arange(T)"
   ]
  },
  {
   "cell_type": "code",
   "execution_count": 57,
   "metadata": {},
   "outputs": [
    {
     "data": {
      "text/plain": [
       "Text(0, 0.5, 'Value')"
      ]
     },
     "execution_count": 57,
     "metadata": {},
     "output_type": "execute_result"
    },
    {
     "data": {
      "image/png": "[encoded data removed]",
      "text/plain": [
       "<Figure size 432x288 with 1 Axes>"
      ]
     },
     "metadata": {
      "needs_background": "light"
     },
     "output_type": "display_data"
    }
   ],
   "source": [
    "plt.plot(np.arange(T),x_seq,label='x')\n",
    "plt.plot(np.arange(T),y_seq,label='y')\n",
    "plt.legend(loc='best',frameon=False)\n",
    "plt.xlabel('$t$')\n",
    "plt.ylabel('Value')"
   ]
  },
  {
   "cell_type": "code",
   "execution_count": 58,
   "metadata": {},
   "outputs": [],
   "source": [
    "h = lambda x: m*x**𝛼 + n*x"
   ]
  },
  {
   "cell_type": "code",
   "execution_count": 59,
   "metadata": {},
   "outputs": [
    {
     "data": {
      "text/plain": [
       "3.0464101615137755"
      ]
     },
     "execution_count": 59,
     "metadata": {},
     "output_type": "execute_result"
    }
   ],
   "source": [
    "h(3)"
   ]
  },
  {
   "cell_type": "code",
   "execution_count": 61,
   "metadata": {},
   "outputs": [],
   "source": [
    "nft = lambda x,m : m*x**𝛼 + n*x"
   ]
  },
  {
   "cell_type": "code",
   "execution_count": 63,
   "metadata": {},
   "outputs": [
    {
     "data": {
      "text/plain": [
       "3.0464101615137755"
      ]
     },
     "execution_count": 63,
     "metadata": {},
     "output_type": "execute_result"
    }
   ],
   "source": [
    "nft(3,m)"
   ]
  },
  {
   "cell_type": "code",
   "execution_count": 64,
   "metadata": {},
   "outputs": [
    {
     "data": {
      "text/plain": [
       "0.2"
      ]
     },
     "execution_count": 64,
     "metadata": {},
     "output_type": "execute_result"
    }
   ],
   "source": [
    "m "
   ]
  },
  {
   "cell_type": "code",
   "execution_count": 65,
   "metadata": {},
   "outputs": [],
   "source": [
    "def jj(x):\n",
    "    m = x+2\n",
    "    return m"
   ]
  },
  {
   "cell_type": "code",
   "execution_count": 68,
   "metadata": {},
   "outputs": [
    {
     "data": {
      "text/plain": [
       "4"
      ]
     },
     "execution_count": 68,
     "metadata": {},
     "output_type": "execute_result"
    }
   ],
   "source": [
    "jj(2)"
   ]
  },
  {
   "cell_type": "code",
   "execution_count": 69,
   "metadata": {},
   "outputs": [
    {
     "data": {
      "text/plain": [
       "0.2"
      ]
     },
     "execution_count": 69,
     "metadata": {},
     "output_type": "execute_result"
    }
   ],
   "source": [
    "m"
   ]
  },
  {
   "cell_type": "code",
   "execution_count": 76,
   "metadata": {},
   "outputs": [],
   "source": [
    "def ns(x):\n",
    "    x_seq[0]=x"
   ]
  },
  {
   "cell_type": "code",
   "execution_count": 77,
   "metadata": {},
   "outputs": [],
   "source": [
    "ns(3)"
   ]
  },
  {
   "cell_type": "code",
   "execution_count": 79,
   "metadata": {},
   "outputs": [],
   "source": [
    "#in this case x_seq is altered by the function"
   ]
  },
  {
   "cell_type": "code",
   "execution_count": 78,
   "metadata": {},
   "outputs": [
    {
     "data": {
      "text/plain": [
       "array([3.        , 1.1       , 1.19976177, 1.29885287, 1.39690203,\n",
       "       1.49359305, 1.58865903, 1.68187717, 1.77306386, 1.86207037,\n",
       "       1.94877873, 2.03309819, 2.11496187, 2.19432385, 2.27115647,\n",
       "       2.34544796, 2.41720027, 2.4864272 , 2.55315266, 2.61740915,\n",
       "       2.67923641, 2.73868024, 2.79579138, 2.85062464, 2.90323804,\n",
       "       2.95369205, 3.00204902, 3.04837256, 3.09272709, 3.1351774 ,\n",
       "       3.1757883 , 3.21462431, 3.25174934, 3.28722656, 3.32111811,\n",
       "       3.353485  , 3.38438696, 3.41388233, 3.44202799, 3.46887925,\n",
       "       3.49448988, 3.51891199, 3.54219605, 3.5643909 , 3.5855437 ,\n",
       "       3.60569997, 3.62490359, 3.64319682, 3.66062034, 3.67721326,\n",
       "       3.69301316, 3.70805613, 3.72237679, 3.73600835, 3.74898265,\n",
       "       3.76133018, 3.77308014, 3.78426049, 3.79489795, 3.80501811,\n",
       "       3.81464542, 3.82380322, 3.83251384, 3.84079861, 3.84867786,\n",
       "       3.85617102, 3.86329663, 3.87007238, 3.87651514, 3.88264098,\n",
       "       3.88846524, 3.89400255, 3.89926684, 3.90427139, 3.90902883,\n",
       "       3.91355123, 3.91785006, 3.92193625, 3.9258202 , 3.92951183,\n",
       "       3.93302058, 3.93635541, 3.93952488, 3.94253712, 3.94539987,\n",
       "       3.9481205 , 3.95070601, 3.95316307, 3.95549802, 3.95771689,\n",
       "       3.95982543, 3.96182909, 3.96373306, 3.96554228, 3.96726144,\n",
       "       3.968895  , 3.97044722, 3.97192212, 3.97332354, 3.97465513])"
      ]
     },
     "execution_count": 78,
     "metadata": {},
     "output_type": "execute_result"
    }
   ],
   "source": [
    "x_seq"
   ]
  },
  {
   "cell_type": "code",
   "execution_count": null,
   "metadata": {},
   "outputs": [],
   "source": []
  }
 ],
 "metadata": {
  "kernelspec": {
   "display_name": "Python 3",
   "language": "python",
   "name": "python3"
  },
  "language_info": {
   "codemirror_mode": {
    "name": "ipython",
    "version": 3
   },
   "file_extension": ".py",
   "mimetype": "text/x-python",
   "name": "python",
   "nbconvert_exporter": "python",
   "pygments_lexer": "ipython3",
   "version": "3.8.3"
  }
 },
 "nbformat": 4,
 "nbformat_minor": 5
}
