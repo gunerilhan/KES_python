{
 "cells": [
  {
   "cell_type": "markdown",
   "id": "broadband-accreditation",
   "metadata": {},
   "source": [
    "### Notebook for Workshop 3\n",
    "\n",
    "This notebook is in html. To be able to run it, please click: [![Open In Colab](https://colab.research.google.com/assets/colab-badge.svg)](https://colab.research.google.com/github/gunerilhan/KES_python/blob/master/workshop3.ipynb)"
   ]
  },
  {
   "cell_type": "code",
   "execution_count": 1,
   "id": "chinese-magnitude",
   "metadata": {},
   "outputs": [],
   "source": [
    "import numpy as np # for numerical programming\n",
    "import pandas as pd # for data analysis\n",
    "import matplotlib.pyplot as plt # for plotting\n",
    "from matplotlib import style # to customize plotting sytles once for all\n",
    "style.use('https://gunerilhan.github.io/img/fivethirtyeight-modified.mplstyle')\n",
    "# to be able to see plots in jupyter notebooks\n",
    "%matplotlib inline \n",
    "import seaborn as sns # for fancier graphs\n"
   ]
  },
  {
   "cell_type": "markdown",
   "id": "improving-showcase",
   "metadata": {},
   "source": [
    "### Built in functions "
   ]
  },
  {
   "cell_type": "code",
   "execution_count": null,
   "id": "regional-strap",
   "metadata": {},
   "outputs": [],
   "source": []
  },
  {
   "cell_type": "markdown",
   "id": "planned-arrangement",
   "metadata": {},
   "source": [
    "### Third party functions \n",
    "\n"
   ]
  },
  {
   "cell_type": "code",
   "execution_count": null,
   "id": "signal-mother",
   "metadata": {},
   "outputs": [],
   "source": []
  },
  {
   "cell_type": "code",
   "execution_count": null,
   "id": "loose-profit",
   "metadata": {},
   "outputs": [],
   "source": []
  },
  {
   "cell_type": "markdown",
   "id": "comparative-desktop",
   "metadata": {},
   "source": [
    "### User defined functions"
   ]
  },
  {
   "cell_type": "markdown",
   "id": "iraqi-timothy",
   "metadata": {},
   "source": [
    "Suppose the variable x evolves over time as in the following formula:\n",
    "    $$ x(t+1) = m x(t)^\\alpha + nx(t), $$\n",
    "    \n",
    "where $m=0.2$, $\\alpha=0.5$, and $n=0.9$, meaning the value of $x$ at time $t+1$ is equal to 0.2 times the value of $x$ at time $t$ to the power 0.5 plus 0.9 times the value of $x$ at time $t$. Suppose $x(0)=1$, the value of $x$ at time $t=0$ is equal to 1.\n",
    "\n",
    "Simulate $x$ for 100 periods starting from time $t=0$.\n",
    "    "
   ]
  },
  {
   "cell_type": "code",
   "execution_count": null,
   "id": "instrumental-tonight",
   "metadata": {},
   "outputs": [],
   "source": []
  },
  {
   "cell_type": "code",
   "execution_count": null,
   "id": "coupled-russia",
   "metadata": {},
   "outputs": [],
   "source": []
  },
  {
   "cell_type": "markdown",
   "id": "presidential-montreal",
   "metadata": {},
   "source": [
    "### Defaults"
   ]
  },
  {
   "cell_type": "code",
   "execution_count": null,
   "id": "organic-escape",
   "metadata": {},
   "outputs": [],
   "source": []
  },
  {
   "cell_type": "code",
   "execution_count": null,
   "id": "bigger-plain",
   "metadata": {},
   "outputs": [],
   "source": []
  },
  {
   "cell_type": "code",
   "execution_count": null,
   "id": "intellectual-stack",
   "metadata": {},
   "outputs": [],
   "source": []
  },
  {
   "cell_type": "code",
   "execution_count": null,
   "id": "substantial-macedonia",
   "metadata": {},
   "outputs": [],
   "source": []
  }
 ],
 "metadata": {
  "kernelspec": {
   "display_name": "Python 3",
   "language": "python",
   "name": "python3"
  },
  "language_info": {
   "codemirror_mode": {
    "name": "ipython",
    "version": 3
   },
   "file_extension": ".py",
   "mimetype": "text/x-python",
   "name": "python",
   "nbconvert_exporter": "python",
   "pygments_lexer": "ipython3",
   "version": "3.7.7"
  }
 },
 "nbformat": 4,
 "nbformat_minor": 5
}
