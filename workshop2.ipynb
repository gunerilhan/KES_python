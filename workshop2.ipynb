{
 "cells": [
  {
   "cell_type": "markdown",
   "id": "private-radar",
   "metadata": {},
   "source": [
    "### Notebook for Workshop 2\n",
    "\n",
    "This notebook is in html. To be able to run it, please click: [![Open In Colab](https://colab.research.google.com/assets/colab-badge.svg)](https://colab.research.google.com/github/gunerilhan/KES_python/blob/master/workshop2.ipynb)"
   ]
  },
  {
   "cell_type": "markdown",
   "id": "disturbed-xerox",
   "metadata": {},
   "source": [
    "QuantEcon is a great source to learn programming, and how to use programming to solve economic problems.\n",
    "\n",
    "https://python-programming.quantecon.org/intro.html\n",
    "    \n",
    "Another source:\n",
    "    \n",
    "https://datascience.quantecon.org    \n",
    "\n",
    "Today, we will follow this lecture:\n",
    "\n",
    "https://python-programming.quantecon.org/python_essentials.html"
   ]
  },
  {
   "cell_type": "code",
   "execution_count": 5,
   "id": "delayed-luxury",
   "metadata": {},
   "outputs": [],
   "source": [
    "a = [1 , 'hi', True]"
   ]
  },
  {
   "cell_type": "code",
   "execution_count": 6,
   "id": "narrative-guinea",
   "metadata": {},
   "outputs": [
    {
     "data": {
      "text/plain": [
       "[1, 'hi', True]"
      ]
     },
     "execution_count": 6,
     "metadata": {},
     "output_type": "execute_result"
    }
   ],
   "source": [
    "a"
   ]
  },
  {
   "cell_type": "code",
   "execution_count": 7,
   "id": "interstate-problem",
   "metadata": {},
   "outputs": [],
   "source": [
    "import numpy as np"
   ]
  },
  {
   "cell_type": "code",
   "execution_count": 8,
   "id": "literary-activity",
   "metadata": {},
   "outputs": [],
   "source": [
    "b = np.array([1,2,3])"
   ]
  },
  {
   "cell_type": "code",
   "execution_count": 14,
   "id": "arctic-amateur",
   "metadata": {},
   "outputs": [
    {
     "data": {
      "text/plain": [
       "array([0.5, 1. , 1.5])"
      ]
     },
     "execution_count": 14,
     "metadata": {},
     "output_type": "execute_result"
    }
   ],
   "source": [
    "b/2"
   ]
  },
  {
   "cell_type": "code",
   "execution_count": 15,
   "id": "handed-length",
   "metadata": {},
   "outputs": [
    {
     "data": {
      "text/plain": [
       "2.0"
      ]
     },
     "execution_count": 15,
     "metadata": {},
     "output_type": "execute_result"
    }
   ],
   "source": [
    "b.mean()"
   ]
  },
  {
   "cell_type": "code",
   "execution_count": 16,
   "id": "consecutive-station",
   "metadata": {},
   "outputs": [
    {
     "data": {
      "text/plain": [
       "0.816496580927726"
      ]
     },
     "execution_count": 16,
     "metadata": {},
     "output_type": "execute_result"
    }
   ],
   "source": [
    "b.std()"
   ]
  },
  {
   "cell_type": "code",
   "execution_count": 17,
   "id": "removable-stone",
   "metadata": {},
   "outputs": [
    {
     "data": {
      "text/plain": [
       "14"
      ]
     },
     "execution_count": 17,
     "metadata": {},
     "output_type": "execute_result"
    }
   ],
   "source": [
    "b.dot(b)"
   ]
  },
  {
   "cell_type": "code",
   "execution_count": 18,
   "id": "changing-heating",
   "metadata": {},
   "outputs": [],
   "source": [
    "# Iterators"
   ]
  },
  {
   "cell_type": "code",
   "execution_count": 20,
   "id": "romance-float",
   "metadata": {},
   "outputs": [
    {
     "data": {
      "text/plain": [
       "array([1, 2, 3])"
      ]
     },
     "execution_count": 20,
     "metadata": {},
     "output_type": "execute_result"
    }
   ],
   "source": [
    "b"
   ]
  },
  {
   "cell_type": "code",
   "execution_count": 24,
   "id": "convinced-payment",
   "metadata": {},
   "outputs": [
    {
     "name": "stdout",
     "output_type": "stream",
     "text": [
      "i square =  1\n",
      "-28\n",
      "i square =  4\n",
      "-28\n",
      "i square =  9\n",
      "-28\n",
      "hi\n"
     ]
    }
   ],
   "source": [
    "for i in b:\n",
    "    print('i square = ',i**2)\n",
    "    k=1-5\n",
    "    m = k*7\n",
    "    print(m)\n",
    "print('hi')"
   ]
  },
  {
   "cell_type": "code",
   "execution_count": 25,
   "id": "numerical-springfield",
   "metadata": {},
   "outputs": [
    {
     "name": "stdout",
     "output_type": "stream",
     "text": [
      "0\n",
      "1\n",
      "2\n",
      "3\n",
      "4\n",
      "5\n",
      "6\n",
      "7\n",
      "8\n"
     ]
    }
   ],
   "source": [
    "for k in range(9):\n",
    "    print(k)"
   ]
  },
  {
   "cell_type": "code",
   "execution_count": 28,
   "id": "decimal-easter",
   "metadata": {},
   "outputs": [
    {
     "name": "stdout",
     "output_type": "stream",
     "text": [
      "hi\n",
      "dajh\n",
      "3\n"
     ]
    }
   ],
   "source": [
    "for m in ['hi','dajh',3]:\n",
    "    print(m)"
   ]
  },
  {
   "cell_type": "code",
   "execution_count": 29,
   "id": "patent-sarah",
   "metadata": {},
   "outputs": [],
   "source": [
    "countries = ['UK','USA','Germany']\n",
    "cities    = ['Canterbury','Charlottesvile','Berlin']"
   ]
  },
  {
   "cell_type": "code",
   "execution_count": 32,
   "id": "several-oxford",
   "metadata": {},
   "outputs": [
    {
     "name": "stdout",
     "output_type": "stream",
     "text": [
      "Canterbury is in UK\n",
      "Charlottesvile is in USA\n",
      "Berlin is in Germany\n"
     ]
    }
   ],
   "source": [
    "for country,city in zip(countries,cities):\n",
    "    print(f'{city} is in {country}')"
   ]
  },
  {
   "cell_type": "code",
   "execution_count": 33,
   "id": "caroline-button",
   "metadata": {},
   "outputs": [],
   "source": [
    "c = [x**2 for x in range(30)]"
   ]
  },
  {
   "cell_type": "code",
   "execution_count": 34,
   "id": "fitted-order",
   "metadata": {
    "scrolled": true
   },
   "outputs": [
    {
     "data": {
      "text/plain": [
       "[0,\n",
       " 1,\n",
       " 4,\n",
       " 9,\n",
       " 16,\n",
       " 25,\n",
       " 36,\n",
       " 49,\n",
       " 64,\n",
       " 81,\n",
       " 100,\n",
       " 121,\n",
       " 144,\n",
       " 169,\n",
       " 196,\n",
       " 225,\n",
       " 256,\n",
       " 289,\n",
       " 324,\n",
       " 361,\n",
       " 400,\n",
       " 441,\n",
       " 484,\n",
       " 529,\n",
       " 576,\n",
       " 625,\n",
       " 676,\n",
       " 729,\n",
       " 784,\n",
       " 841]"
      ]
     },
     "execution_count": 34,
     "metadata": {},
     "output_type": "execute_result"
    }
   ],
   "source": [
    "c"
   ]
  },
  {
   "cell_type": "code",
   "execution_count": 35,
   "id": "seventh-immunology",
   "metadata": {},
   "outputs": [
    {
     "name": "stdout",
     "output_type": "stream",
     "text": [
      "i =  0\n",
      "i =  1\n",
      "i =  2\n",
      "i =  3\n",
      "i =  4\n",
      "i =  5\n",
      "i =  6\n",
      "i =  7\n",
      "i =  8\n",
      "i =  9\n"
     ]
    }
   ],
   "source": [
    "i = 0\n",
    "while i<10:\n",
    "    print('i = ',i)\n",
    "    i += 1"
   ]
  },
  {
   "cell_type": "markdown",
   "id": "substantial-astronomy",
   "metadata": {},
   "source": [
    "# Conditionals"
   ]
  },
  {
   "cell_type": "code",
   "execution_count": 36,
   "id": "spectacular-phrase",
   "metadata": {},
   "outputs": [
    {
     "name": "stdout",
     "output_type": "stream",
     "text": [
      "Hello\n"
     ]
    }
   ],
   "source": [
    "if True:\n",
    "    print('Hello')"
   ]
  },
  {
   "cell_type": "code",
   "execution_count": 37,
   "id": "charitable-hamilton",
   "metadata": {},
   "outputs": [],
   "source": [
    "if False:\n",
    "    print('bye')"
   ]
  },
  {
   "cell_type": "code",
   "execution_count": 38,
   "id": "another-forty",
   "metadata": {},
   "outputs": [
    {
     "name": "stdout",
     "output_type": "stream",
     "text": [
      "1\n"
     ]
    }
   ],
   "source": [
    "i, j = 2,3\n",
    "if i < j:\n",
    "    print(j-i)"
   ]
  },
  {
   "cell_type": "code",
   "execution_count": 39,
   "id": "administrative-checkout",
   "metadata": {},
   "outputs": [],
   "source": [
    "if i == j:\n",
    "    print(j-1)"
   ]
  },
  {
   "cell_type": "code",
   "execution_count": 40,
   "id": "subsequent-virus",
   "metadata": {},
   "outputs": [
    {
     "name": "stdout",
     "output_type": "stream",
     "text": [
      "Bye\n"
     ]
    }
   ],
   "source": [
    "if i>j:\n",
    "    print('Hi')\n",
    "else:\n",
    "    print('Bye')"
   ]
  },
  {
   "cell_type": "code",
   "execution_count": 41,
   "id": "caroline-cornell",
   "metadata": {},
   "outputs": [
    {
     "name": "stdout",
     "output_type": "stream",
     "text": [
      "Hello\n"
     ]
    }
   ],
   "source": [
    "if i>j:\n",
    "    print('Hi')\n",
    "elif i<j:\n",
    "    print('Hello')\n",
    "else:\n",
    "    print('Bye')"
   ]
  },
  {
   "cell_type": "code",
   "execution_count": 42,
   "id": "appointed-sodium",
   "metadata": {},
   "outputs": [
    {
     "name": "stdout",
     "output_type": "stream",
     "text": [
      "correct\n"
     ]
    }
   ],
   "source": [
    "if (2<3) and (5<7):\n",
    "    print('correct')"
   ]
  },
  {
   "cell_type": "code",
   "execution_count": 43,
   "id": "indie-company",
   "metadata": {},
   "outputs": [],
   "source": [
    "if (2<3) and (5<2):\n",
    "    print('correct')"
   ]
  },
  {
   "cell_type": "code",
   "execution_count": 44,
   "id": "heard-european",
   "metadata": {},
   "outputs": [
    {
     "name": "stdout",
     "output_type": "stream",
     "text": [
      "correct\n"
     ]
    }
   ],
   "source": [
    "if (2<3) or (5<2):\n",
    "    print('correct')"
   ]
  },
  {
   "cell_type": "code",
   "execution_count": 45,
   "id": "negative-wisdom",
   "metadata": {},
   "outputs": [],
   "source": [
    "b = 5 if (2>3) else 4"
   ]
  },
  {
   "cell_type": "code",
   "execution_count": 47,
   "id": "confused-infrared",
   "metadata": {},
   "outputs": [
    {
     "data": {
      "text/plain": [
       "4"
      ]
     },
     "execution_count": 47,
     "metadata": {},
     "output_type": "execute_result"
    }
   ],
   "source": [
    "b"
   ]
  },
  {
   "cell_type": "code",
   "execution_count": 48,
   "id": "alternate-image",
   "metadata": {},
   "outputs": [],
   "source": [
    "def f(x):\n",
    "    a = x**2\n",
    "    return a"
   ]
  },
  {
   "cell_type": "code",
   "execution_count": 50,
   "id": "derived-publication",
   "metadata": {},
   "outputs": [
    {
     "data": {
      "text/plain": [
       "144"
      ]
     },
     "execution_count": 50,
     "metadata": {},
     "output_type": "execute_result"
    }
   ],
   "source": [
    "f(12)"
   ]
  },
  {
   "cell_type": "code",
   "execution_count": 51,
   "id": "atmospheric-korean",
   "metadata": {},
   "outputs": [],
   "source": [
    "g = lambda x: x**2"
   ]
  },
  {
   "cell_type": "code",
   "execution_count": 52,
   "id": "daily-granny",
   "metadata": {},
   "outputs": [
    {
     "data": {
      "text/plain": [
       "144"
      ]
     },
     "execution_count": 52,
     "metadata": {},
     "output_type": "execute_result"
    }
   ],
   "source": [
    "g(12)"
   ]
  },
  {
   "cell_type": "code",
   "execution_count": 53,
   "id": "allied-bubble",
   "metadata": {},
   "outputs": [
    {
     "data": {
      "text/plain": [
       "9"
      ]
     },
     "execution_count": 53,
     "metadata": {},
     "output_type": "execute_result"
    }
   ],
   "source": [
    "g(3)"
   ]
  },
  {
   "cell_type": "code",
   "execution_count": 54,
   "id": "egyptian-manor",
   "metadata": {},
   "outputs": [
    {
     "data": {
      "text/plain": [
       "['UK', 'USA', 'Germany']"
      ]
     },
     "execution_count": 54,
     "metadata": {},
     "output_type": "execute_result"
    }
   ],
   "source": [
    "countries"
   ]
  },
  {
   "cell_type": "code",
   "execution_count": 55,
   "id": "suffering-picnic",
   "metadata": {},
   "outputs": [
    {
     "data": {
      "text/plain": [
       "['Canterbury', 'Charlottesvile', 'Berlin']"
      ]
     },
     "execution_count": 55,
     "metadata": {},
     "output_type": "execute_result"
    }
   ],
   "source": [
    "cities"
   ]
  },
  {
   "cell_type": "code",
   "execution_count": 56,
   "id": "modified-indonesian",
   "metadata": {},
   "outputs": [
    {
     "data": {
      "text/plain": [
       "{'UK': 'Canterbury', 'USA': 'Charlottesvile', 'Germany': 'Berlin'}"
      ]
     },
     "execution_count": 56,
     "metadata": {},
     "output_type": "execute_result"
    }
   ],
   "source": [
    "dict(zip(countries,cities))"
   ]
  },
  {
   "cell_type": "code",
   "execution_count": null,
   "id": "spectacular-occasion",
   "metadata": {},
   "outputs": [],
   "source": []
  }
 ],
 "metadata": {
  "kernelspec": {
   "display_name": "Python 3",
   "language": "python",
   "name": "python3"
  },
  "language_info": {
   "codemirror_mode": {
    "name": "ipython",
    "version": 3
   },
   "file_extension": ".py",
   "mimetype": "text/x-python",
   "name": "python",
   "nbconvert_exporter": "python",
   "pygments_lexer": "ipython3",
   "version": "3.7.7"
  }
 },
 "nbformat": 4,
 "nbformat_minor": 5
}
