{
 "cells": [
  {
   "cell_type": "markdown",
   "id": "tribal-tactics",
   "metadata": {},
   "source": [
    "### Notebook for Workshop 1\n",
    "\n",
    "This notebook is in html. To be able to run it, please click: [![Open In Colab](https://colab.research.google.com/assets/colab-badge.svg)](https://colab.research.google.com/github/gunerilhan/KES_python/blob/master/workshop1.ipynb)"
   ]
  },
  {
   "cell_type": "markdown",
   "id": "dietary-witch",
   "metadata": {},
   "source": [
    "QuantEcon is a great source to learn programming, and how to use programming to solve economic problems.\n",
    "\n",
    "https://python-programming.quantecon.org/intro.html\n",
    "\n",
    "Today, we will follow this lecture:\n",
    "\n",
    "https://python-programming.quantecon.org/python_essentials.html\n"
   ]
  },
  {
   "cell_type": "code",
   "execution_count": 2,
   "id": "outdoor-indiana",
   "metadata": {},
   "outputs": [],
   "source": [
    "a  = 1.5\n",
    "b  = 4\n",
    "c  = \"economic society\" "
   ]
  },
  {
   "cell_type": "code",
   "execution_count": 5,
   "id": "loved-ambassador",
   "metadata": {},
   "outputs": [
    {
     "data": {
      "text/plain": [
       "(float, int, str)"
      ]
     },
     "execution_count": 5,
     "metadata": {},
     "output_type": "execute_result"
    }
   ],
   "source": [
    "type(a),type(b),type(c)"
   ]
  },
  {
   "cell_type": "code",
   "execution_count": 7,
   "id": "female-limitation",
   "metadata": {},
   "outputs": [],
   "source": [
    "a = a+2"
   ]
  },
  {
   "cell_type": "code",
   "execution_count": 8,
   "id": "sixth-sewing",
   "metadata": {},
   "outputs": [
    {
     "data": {
      "text/plain": [
       "3.5"
      ]
     },
     "execution_count": 8,
     "metadata": {},
     "output_type": "execute_result"
    }
   ],
   "source": [
    "a"
   ]
  },
  {
   "cell_type": "code",
   "execution_count": 9,
   "id": "stable-miller",
   "metadata": {},
   "outputs": [],
   "source": [
    "d = True"
   ]
  },
  {
   "cell_type": "code",
   "execution_count": 11,
   "id": "postal-puppy",
   "metadata": {},
   "outputs": [],
   "source": [
    "e = False"
   ]
  },
  {
   "cell_type": "code",
   "execution_count": 12,
   "id": "residential-photograph",
   "metadata": {},
   "outputs": [
    {
     "data": {
      "text/plain": [
       "bool"
      ]
     },
     "execution_count": 12,
     "metadata": {},
     "output_type": "execute_result"
    }
   ],
   "source": [
    "type(e)"
   ]
  },
  {
   "cell_type": "code",
   "execution_count": 13,
   "id": "above-regression",
   "metadata": {},
   "outputs": [
    {
     "data": {
      "text/plain": [
       "False"
      ]
     },
     "execution_count": 13,
     "metadata": {},
     "output_type": "execute_result"
    }
   ],
   "source": [
    "e & d"
   ]
  },
  {
   "cell_type": "code",
   "execution_count": 14,
   "id": "subject-runner",
   "metadata": {},
   "outputs": [
    {
     "data": {
      "text/plain": [
       "True"
      ]
     },
     "execution_count": 14,
     "metadata": {},
     "output_type": "execute_result"
    }
   ],
   "source": [
    "e | d"
   ]
  },
  {
   "cell_type": "code",
   "execution_count": 15,
   "id": "satellite-election",
   "metadata": {},
   "outputs": [],
   "source": [
    "a, b, c = 2, .5, True"
   ]
  },
  {
   "cell_type": "code",
   "execution_count": 18,
   "id": "derived-learning",
   "metadata": {},
   "outputs": [
    {
     "data": {
      "text/plain": [
       "2"
      ]
     },
     "execution_count": 18,
     "metadata": {},
     "output_type": "execute_result"
    }
   ],
   "source": [
    "a"
   ]
  },
  {
   "cell_type": "code",
   "execution_count": 19,
   "id": "fatal-wesley",
   "metadata": {},
   "outputs": [],
   "source": [
    "d = [1,2,'hi','Kent',True]"
   ]
  },
  {
   "cell_type": "code",
   "execution_count": 20,
   "id": "forward-basics",
   "metadata": {},
   "outputs": [
    {
     "data": {
      "text/plain": [
       "list"
      ]
     },
     "execution_count": 20,
     "metadata": {},
     "output_type": "execute_result"
    }
   ],
   "source": [
    "type(d)"
   ]
  },
  {
   "cell_type": "code",
   "execution_count": 23,
   "id": "focal-arctic",
   "metadata": {},
   "outputs": [
    {
     "data": {
      "text/plain": [
       "[1, 2, 'hi', 'Kent', True]"
      ]
     },
     "execution_count": 23,
     "metadata": {},
     "output_type": "execute_result"
    }
   ],
   "source": [
    "d"
   ]
  },
  {
   "cell_type": "code",
   "execution_count": 29,
   "id": "found-committee",
   "metadata": {},
   "outputs": [
    {
     "data": {
      "text/plain": [
       "['hi', 'Kent', True]"
      ]
     },
     "execution_count": 29,
     "metadata": {},
     "output_type": "execute_result"
    }
   ],
   "source": [
    "d[2:]"
   ]
  },
  {
   "cell_type": "code",
   "execution_count": 30,
   "id": "infinite-colony",
   "metadata": {},
   "outputs": [
    {
     "data": {
      "text/plain": [
       "[2, 'hi', 'Kent', True]"
      ]
     },
     "execution_count": 30,
     "metadata": {},
     "output_type": "execute_result"
    }
   ],
   "source": [
    "d[1:]"
   ]
  },
  {
   "cell_type": "code",
   "execution_count": 31,
   "id": "atmospheric-water",
   "metadata": {},
   "outputs": [
    {
     "data": {
      "text/plain": [
       "[1, 2, 'hi']"
      ]
     },
     "execution_count": 31,
     "metadata": {},
     "output_type": "execute_result"
    }
   ],
   "source": [
    "d[:3]"
   ]
  },
  {
   "cell_type": "code",
   "execution_count": 34,
   "id": "naked-ballet",
   "metadata": {},
   "outputs": [
    {
     "data": {
      "text/plain": [
       "['Kent', True]"
      ]
     },
     "execution_count": 34,
     "metadata": {},
     "output_type": "execute_result"
    }
   ],
   "source": [
    "d[-2:]"
   ]
  },
  {
   "cell_type": "code",
   "execution_count": 35,
   "id": "wanted-spread",
   "metadata": {},
   "outputs": [],
   "source": [
    "e = (4,5,0,0.1,False)"
   ]
  },
  {
   "cell_type": "code",
   "execution_count": 37,
   "id": "brutal-spray",
   "metadata": {},
   "outputs": [
    {
     "data": {
      "text/plain": [
       "(tuple, list)"
      ]
     },
     "execution_count": 37,
     "metadata": {},
     "output_type": "execute_result"
    }
   ],
   "source": [
    "type(e),type(d)"
   ]
  },
  {
   "cell_type": "code",
   "execution_count": 38,
   "id": "later-outside",
   "metadata": {},
   "outputs": [
    {
     "data": {
      "text/plain": [
       "[1, 2, 'hi', 'Kent', True]"
      ]
     },
     "execution_count": 38,
     "metadata": {},
     "output_type": "execute_result"
    }
   ],
   "source": [
    "d"
   ]
  },
  {
   "cell_type": "code",
   "execution_count": 39,
   "id": "killing-roulette",
   "metadata": {},
   "outputs": [],
   "source": [
    "d[0]=5.6"
   ]
  },
  {
   "cell_type": "code",
   "execution_count": 40,
   "id": "mobile-province",
   "metadata": {},
   "outputs": [
    {
     "data": {
      "text/plain": [
       "[5.6, 2, 'hi', 'Kent', True]"
      ]
     },
     "execution_count": 40,
     "metadata": {},
     "output_type": "execute_result"
    }
   ],
   "source": [
    "d"
   ]
  },
  {
   "cell_type": "code",
   "execution_count": 43,
   "id": "executive-possibility",
   "metadata": {},
   "outputs": [
    {
     "data": {
      "text/plain": [
       "(4, 5, 0, 0.1, False)"
      ]
     },
     "execution_count": 43,
     "metadata": {},
     "output_type": "execute_result"
    }
   ],
   "source": [
    "e"
   ]
  },
  {
   "cell_type": "code",
   "execution_count": 44,
   "id": "stone-coordinate",
   "metadata": {},
   "outputs": [
    {
     "ename": "TypeError",
     "evalue": "'tuple' object does not support item assignment",
     "output_type": "error",
     "traceback": [
      "\u001b[0;31m---------------------------------------------------------------------------\u001b[0m",
      "\u001b[0;31mTypeError\u001b[0m                                 Traceback (most recent call last)",
      "\u001b[0;32m<ipython-input-44-ae571d2e3ebe>\u001b[0m in \u001b[0;36m<module>\u001b[0;34m\u001b[0m\n\u001b[0;32m----> 1\u001b[0;31m \u001b[0me\u001b[0m\u001b[0;34m[\u001b[0m\u001b[0;36m0\u001b[0m\u001b[0;34m]\u001b[0m \u001b[0;34m=\u001b[0m \u001b[0;36m.3\u001b[0m\u001b[0;34m\u001b[0m\u001b[0;34m\u001b[0m\u001b[0m\n\u001b[0m",
      "\u001b[0;31mTypeError\u001b[0m: 'tuple' object does not support item assignment"
     ]
    }
   ],
   "source": [
    "e[0] = .3"
   ]
  },
  {
   "cell_type": "code",
   "execution_count": 49,
   "id": "varied-administrator",
   "metadata": {},
   "outputs": [],
   "source": [
    "g = {'England':'London','Turkey':'Ankara','Spain':'Madrid'}"
   ]
  },
  {
   "cell_type": "code",
   "execution_count": 46,
   "id": "excess-siemens",
   "metadata": {},
   "outputs": [
    {
     "data": {
      "text/plain": [
       "dict"
      ]
     },
     "execution_count": 46,
     "metadata": {},
     "output_type": "execute_result"
    }
   ],
   "source": [
    "type(g)"
   ]
  },
  {
   "cell_type": "code",
   "execution_count": 47,
   "id": "military-accommodation",
   "metadata": {},
   "outputs": [
    {
     "data": {
      "text/plain": [
       "'London'"
      ]
     },
     "execution_count": 47,
     "metadata": {},
     "output_type": "execute_result"
    }
   ],
   "source": [
    "g['England']"
   ]
  },
  {
   "cell_type": "code",
   "execution_count": 48,
   "id": "synthetic-bermuda",
   "metadata": {},
   "outputs": [
    {
     "data": {
      "text/plain": [
       "'Ankara'"
      ]
     },
     "execution_count": 48,
     "metadata": {},
     "output_type": "execute_result"
    }
   ],
   "source": [
    "g['Turkey']"
   ]
  },
  {
   "cell_type": "code",
   "execution_count": null,
   "id": "affiliated-weekend",
   "metadata": {},
   "outputs": [],
   "source": [
    "['London','Ankara','Madrid']"
   ]
  },
  {
   "cell_type": "code",
   "execution_count": 50,
   "id": "fixed-mercy",
   "metadata": {},
   "outputs": [
    {
     "data": {
      "text/plain": [
       "'Madrid'"
      ]
     },
     "execution_count": 50,
     "metadata": {},
     "output_type": "execute_result"
    }
   ],
   "source": [
    "g['Spain']"
   ]
  },
  {
   "cell_type": "code",
   "execution_count": 51,
   "id": "average-airfare",
   "metadata": {},
   "outputs": [],
   "source": [
    "h = {1:[3,4,'Kent'],'Kent':['Economics','Politics']}"
   ]
  },
  {
   "cell_type": "code",
   "execution_count": 52,
   "id": "republican-congo",
   "metadata": {},
   "outputs": [
    {
     "data": {
      "text/plain": [
       "dict"
      ]
     },
     "execution_count": 52,
     "metadata": {},
     "output_type": "execute_result"
    }
   ],
   "source": [
    "type(h)"
   ]
  },
  {
   "cell_type": "code",
   "execution_count": 55,
   "id": "qualified-participation",
   "metadata": {},
   "outputs": [
    {
     "data": {
      "text/plain": [
       "'Kent'"
      ]
     },
     "execution_count": 55,
     "metadata": {},
     "output_type": "execute_result"
    }
   ],
   "source": [
    "h[1][-1]"
   ]
  },
  {
   "cell_type": "code",
   "execution_count": 56,
   "id": "speaking-second",
   "metadata": {},
   "outputs": [
    {
     "data": {
      "text/plain": [
       "['Economics', 'Politics']"
      ]
     },
     "execution_count": 56,
     "metadata": {},
     "output_type": "execute_result"
    }
   ],
   "source": [
    "h['Kent']"
   ]
  },
  {
   "cell_type": "code",
   "execution_count": 57,
   "id": "flexible-brazil",
   "metadata": {},
   "outputs": [],
   "source": [
    "a = [2,3,4]"
   ]
  },
  {
   "cell_type": "code",
   "execution_count": 59,
   "id": "regional-beads",
   "metadata": {},
   "outputs": [],
   "source": [
    "a.append('hi')"
   ]
  },
  {
   "cell_type": "code",
   "execution_count": 62,
   "id": "beneficial-integrity",
   "metadata": {},
   "outputs": [],
   "source": [
    "a.append(('UoK','Economics'))"
   ]
  },
  {
   "cell_type": "code",
   "execution_count": 63,
   "id": "guided-stanford",
   "metadata": {},
   "outputs": [
    {
     "data": {
      "text/plain": [
       "[2, 3, 4, 'hi', ('UoK', 'Economics')]"
      ]
     },
     "execution_count": 63,
     "metadata": {},
     "output_type": "execute_result"
    }
   ],
   "source": [
    "a"
   ]
  },
  {
   "cell_type": "code",
   "execution_count": 64,
   "id": "original-florence",
   "metadata": {},
   "outputs": [
    {
     "data": {
      "text/plain": [
       "('UoK', 'Economics')"
      ]
     },
     "execution_count": 64,
     "metadata": {},
     "output_type": "execute_result"
    }
   ],
   "source": [
    "a[-1]"
   ]
  },
  {
   "cell_type": "code",
   "execution_count": 65,
   "id": "transparent-express",
   "metadata": {},
   "outputs": [],
   "source": [
    "a.append(h)"
   ]
  },
  {
   "cell_type": "code",
   "execution_count": 66,
   "id": "recognized-knight",
   "metadata": {},
   "outputs": [
    {
     "data": {
      "text/plain": [
       "[2,\n",
       " 3,\n",
       " 4,\n",
       " 'hi',\n",
       " ('UoK', 'Economics'),\n",
       " {1: [3, 4, 'Kent'], 'Kent': ['Economics', 'Politics']}]"
      ]
     },
     "execution_count": 66,
     "metadata": {},
     "output_type": "execute_result"
    }
   ],
   "source": [
    "a"
   ]
  },
  {
   "cell_type": "code",
   "execution_count": 67,
   "id": "listed-intake",
   "metadata": {},
   "outputs": [
    {
     "data": {
      "text/plain": [
       "{1: [3, 4, 'Kent'], 'Kent': ['Economics', 'Politics']}"
      ]
     },
     "execution_count": 67,
     "metadata": {},
     "output_type": "execute_result"
    }
   ],
   "source": [
    "a.pop()"
   ]
  },
  {
   "cell_type": "code",
   "execution_count": 68,
   "id": "young-tucson",
   "metadata": {},
   "outputs": [
    {
     "data": {
      "text/plain": [
       "[2, 3, 4, 'hi', ('UoK', 'Economics')]"
      ]
     },
     "execution_count": 68,
     "metadata": {},
     "output_type": "execute_result"
    }
   ],
   "source": [
    "a"
   ]
  },
  {
   "cell_type": "code",
   "execution_count": 72,
   "id": "expensive-sacrifice",
   "metadata": {},
   "outputs": [],
   "source": [
    "a = a + [1]"
   ]
  },
  {
   "cell_type": "code",
   "execution_count": 73,
   "id": "delayed-receipt",
   "metadata": {},
   "outputs": [
    {
     "data": {
      "text/plain": [
       "[2, 3, 4, 'hi', ('UoK', 'Economics'), 1]"
      ]
     },
     "execution_count": 73,
     "metadata": {},
     "output_type": "execute_result"
    }
   ],
   "source": [
    "a"
   ]
  },
  {
   "cell_type": "code",
   "execution_count": 75,
   "id": "configured-webmaster",
   "metadata": {},
   "outputs": [],
   "source": [
    "m = {1,2,3}"
   ]
  },
  {
   "cell_type": "code",
   "execution_count": 76,
   "id": "planned-legislation",
   "metadata": {},
   "outputs": [
    {
     "data": {
      "text/plain": [
       "set"
      ]
     },
     "execution_count": 76,
     "metadata": {},
     "output_type": "execute_result"
    }
   ],
   "source": [
    "type(m)"
   ]
  },
  {
   "cell_type": "code",
   "execution_count": 77,
   "id": "civil-nickname",
   "metadata": {},
   "outputs": [],
   "source": [
    "n = {1,1,2,2}"
   ]
  },
  {
   "cell_type": "code",
   "execution_count": 79,
   "id": "valid-citizenship",
   "metadata": {},
   "outputs": [
    {
     "data": {
      "text/plain": [
       "True"
      ]
     },
     "execution_count": 79,
     "metadata": {},
     "output_type": "execute_result"
    }
   ],
   "source": [
    "n.issubset(m)"
   ]
  },
  {
   "cell_type": "code",
   "execution_count": 80,
   "id": "trying-trace",
   "metadata": {},
   "outputs": [
    {
     "data": {
      "text/plain": [
       "{1, 2, 3}"
      ]
     },
     "execution_count": 80,
     "metadata": {},
     "output_type": "execute_result"
    }
   ],
   "source": [
    "m.intersection(m)"
   ]
  },
  {
   "cell_type": "code",
   "execution_count": null,
   "id": "grateful-ukraine",
   "metadata": {},
   "outputs": [],
   "source": []
  }
 ],
 "metadata": {
  "kernelspec": {
   "display_name": "Python 3",
   "language": "python",
   "name": "python3"
  },
  "language_info": {
   "codemirror_mode": {
    "name": "ipython",
    "version": 3
   },
   "file_extension": ".py",
   "mimetype": "text/x-python",
   "name": "python",
   "nbconvert_exporter": "python",
   "pygments_lexer": "ipython3",
   "version": "3.7.7"
  }
 },
 "nbformat": 4,
 "nbformat_minor": 5
}
